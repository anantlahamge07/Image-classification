{
 "cells": [
  {
   "cell_type": "code",
   "execution_count": 1,
   "id": "62b56153-87d0-4de9-931c-ed6fc007bb46",
   "metadata": {},
   "outputs": [],
   "source": [
    "import numpy as np\n",
    "import pandas as pd\n",
    "import matplotlib.pyplot as plt\n",
    "from tensorflow.keras import datasets, layers, models\n",
    "import tensorflow as tf\n",
    "import cv2 as cv\n",
    "import os"
   ]
  },
  {
   "cell_type": "code",
   "execution_count": 2,
   "id": "9dc40c89-d1a4-4dcd-9b13-bd52521db71c",
   "metadata": {},
   "outputs": [],
   "source": [
    "(training_images, training_labels),(testing_images, testing_labels) = datasets.cifar10.load_data()"
   ]
  },
  {
   "cell_type": "code",
   "execution_count": 3,
   "id": "bd1d58d3-1d2e-405d-82a4-7138e1133f57",
   "metadata": {},
   "outputs": [],
   "source": [
    "training_images, testing_images = training_images/255, testing_images/255"
   ]
  },
  {
   "cell_type": "code",
   "execution_count": 4,
   "id": "624becd8-0b98-4480-930d-911fc9731041",
   "metadata": {},
   "outputs": [],
   "source": [
    "class_names = ['Plane','Car','Bird','Cat','Deer','Dog','Frog','Horse','Ship','Truck']"
   ]
  },
  {
   "cell_type": "code",
   "execution_count": 5,
   "id": "cf1a2809-4042-4353-b551-b451e6a7cead",
   "metadata": {},
   "outputs": [
    {
     "data": {
      "text/plain": [
       "(50000, 32, 32, 3)"
      ]
     },
     "execution_count": 5,
     "metadata": {},
     "output_type": "execute_result"
    }
   ],
   "source": [
    "training_images.shape\n"
   ]
  },
  {
   "cell_type": "code",
   "execution_count": 6,
   "id": "d8f31c47-0dea-4fb4-960c-0787b5d69bdb",
   "metadata": {},
   "outputs": [],
   "source": [
    "#building neural network\n",
    "model = models.Sequential()\n",
    "model.add(layers.Conv2D(32,(3,3), activation = 'relu'))\n",
    "model.add(layers.MaxPooling2D((2,2)))\n",
    "model.add(layers.Conv2D(64,(3,3), activation = 'relu'))\n",
    "model.add(layers.MaxPooling2D((2,2)))\n",
    "model.add(layers.Conv2D(64,(3,3), activation = 'relu'))\n",
    "model.add(layers.Flatten())\n",
    "model.add(layers.Dense(64, activation = 'relu')) \n",
    "model.add(layers.Dense(10, activation = 'softmax'))\n"
   ]
  },
  {
   "cell_type": "code",
   "execution_count": 7,
   "id": "2fbf9614-d1fe-47a5-8d73-91a8922ed45a",
   "metadata": {},
   "outputs": [],
   "source": [
    "#compiling the model\n",
    "from tensorflow.keras.losses import SparseCategoricalCrossentropy\n",
    "\n",
    "model.compile(optimizer = tf.keras.optimizers.Adam(learning_rate = 1e-3),loss = tf.keras.losses.SparseCategoricalCrossentropy, metrics = ['accuracy'])"
   ]
  },
  {
   "cell_type": "code",
   "execution_count": 8,
   "id": "4b2f82ef-9cf7-4de8-aaff-f0c36cfd1fbb",
   "metadata": {},
   "outputs": [
    {
     "name": "stdout",
     "output_type": "stream",
     "text": [
      "Epoch 1/10\n",
      "\u001b[1m1563/1563\u001b[0m \u001b[32m━━━━━━━━━━━━━━━━━━━━\u001b[0m\u001b[37m\u001b[0m \u001b[1m20s\u001b[0m 12ms/step - accuracy: 0.3633 - loss: 1.7350\n",
      "Epoch 2/10\n",
      "\u001b[1m1563/1563\u001b[0m \u001b[32m━━━━━━━━━━━━━━━━━━━━\u001b[0m\u001b[37m\u001b[0m \u001b[1m15s\u001b[0m 10ms/step - accuracy: 0.5773 - loss: 1.1954\n",
      "Epoch 3/10\n",
      "\u001b[1m1563/1563\u001b[0m \u001b[32m━━━━━━━━━━━━━━━━━━━━\u001b[0m\u001b[37m\u001b[0m \u001b[1m14s\u001b[0m 9ms/step - accuracy: 0.6421 - loss: 1.0204 \n",
      "Epoch 4/10\n",
      "\u001b[1m1563/1563\u001b[0m \u001b[32m━━━━━━━━━━━━━━━━━━━━\u001b[0m\u001b[37m\u001b[0m \u001b[1m13s\u001b[0m 9ms/step - accuracy: 0.6845 - loss: 0.8991\n",
      "Epoch 5/10\n",
      "\u001b[1m1563/1563\u001b[0m \u001b[32m━━━━━━━━━━━━━━━━━━━━\u001b[0m\u001b[37m\u001b[0m \u001b[1m13s\u001b[0m 8ms/step - accuracy: 0.7107 - loss: 0.8283\n",
      "Epoch 6/10\n",
      "\u001b[1m1563/1563\u001b[0m \u001b[32m━━━━━━━━━━━━━━━━━━━━\u001b[0m\u001b[37m\u001b[0m \u001b[1m13s\u001b[0m 8ms/step - accuracy: 0.7326 - loss: 0.7651\n",
      "Epoch 7/10\n",
      "\u001b[1m1563/1563\u001b[0m \u001b[32m━━━━━━━━━━━━━━━━━━━━\u001b[0m\u001b[37m\u001b[0m \u001b[1m13s\u001b[0m 8ms/step - accuracy: 0.7485 - loss: 0.7146\n",
      "Epoch 8/10\n",
      "\u001b[1m1563/1563\u001b[0m \u001b[32m━━━━━━━━━━━━━━━━━━━━\u001b[0m\u001b[37m\u001b[0m \u001b[1m13s\u001b[0m 8ms/step - accuracy: 0.7700 - loss: 0.6566\n",
      "Epoch 9/10\n",
      "\u001b[1m1563/1563\u001b[0m \u001b[32m━━━━━━━━━━━━━━━━━━━━\u001b[0m\u001b[37m\u001b[0m \u001b[1m13s\u001b[0m 8ms/step - accuracy: 0.7840 - loss: 0.6184\n",
      "Epoch 10/10\n",
      "\u001b[1m1563/1563\u001b[0m \u001b[32m━━━━━━━━━━━━━━━━━━━━\u001b[0m\u001b[37m\u001b[0m \u001b[1m13s\u001b[0m 8ms/step - accuracy: 0.7926 - loss: 0.5841\n"
     ]
    },
    {
     "data": {
      "text/plain": [
       "<keras.src.callbacks.history.History at 0x1e8cc8b2e90>"
      ]
     },
     "execution_count": 8,
     "metadata": {},
     "output_type": "execute_result"
    }
   ],
   "source": [
    "#fitting the model\n",
    "model.fit(training_images, training_labels, epochs = 10)"
   ]
  },
  {
   "cell_type": "code",
   "execution_count": 9,
   "id": "ce6444af-d408-4a81-a7bc-594a33e5b0be",
   "metadata": {},
   "outputs": [
    {
     "name": "stdout",
     "output_type": "stream",
     "text": [
      "\u001b[1m313/313\u001b[0m \u001b[32m━━━━━━━━━━━━━━━━━━━━\u001b[0m\u001b[37m\u001b[0m \u001b[1m1s\u001b[0m 4ms/step - accuracy: 0.7257 - loss: 0.8447   \n",
      "Loss  : 0.8485634922981262\n",
      "Accuracy  : 72.18999862670898\n"
     ]
    }
   ],
   "source": [
    "loss, accuracy = model.evaluate(testing_images, testing_labels)\n",
    "\n",
    "print(f\"Loss  : {loss}\")\n",
    "print(f\"Accuracy  : {accuracy*100}\")"
   ]
  },
  {
   "cell_type": "code",
   "execution_count": 10,
   "id": "f8d9f222-4db9-4bd0-957a-76b0c170081d",
   "metadata": {},
   "outputs": [
    {
     "name": "stdout",
     "output_type": "stream",
     "text": [
      "C:\\Users\\hp\\OneDrive\\Desktop\\ML projects\n"
     ]
    }
   ],
   "source": [
    "print(os.getcwd())"
   ]
  },
  {
   "cell_type": "code",
   "execution_count": 35,
   "id": "8d5c38f2-b597-4890-9711-bc082cd541c9",
   "metadata": {},
   "outputs": [],
   "source": [
    "img = cv.imread('plane.jpg')\n",
    "img = cv.cvtColor(img, cv.COLOR_BGR2RGB)"
   ]
  },
  {
   "cell_type": "code",
   "execution_count": 36,
   "id": "053a7abf-321d-4c64-88cb-90b4b892953d",
   "metadata": {},
   "outputs": [
    {
     "data": {
      "text/plain": [
       "<matplotlib.image.AxesImage at 0x1e931f5b850>"
      ]
     },
     "execution_count": 36,
     "metadata": {},
     "output_type": "execute_result"
    },
    {
     "data": {
      "image/png": "[encoded data removed]",
      "text/plain": [
       "<Figure size 640x480 with 1 Axes>"
      ]
     },
     "metadata": {},
     "output_type": "display_data"
    }
   ],
   "source": [
    "plt.imshow(img, cmap = plt.cm.binary)"
   ]
  },
  {
   "cell_type": "code",
   "execution_count": 37,
   "id": "98f0d37f-c389-4373-8c67-f4e53b17f2a9",
   "metadata": {},
   "outputs": [
    {
     "name": "stdout",
     "output_type": "stream",
     "text": [
      "\u001b[1m1/1\u001b[0m \u001b[32m━━━━━━━━━━━━━━━━━━━━\u001b[0m\u001b[37m\u001b[0m \u001b[1m0s\u001b[0m 66ms/step\n",
      "Prediction is Ship\n"
     ]
    }
   ],
   "source": [
    "prediction = model.predict(np.array([img])/ 255)\n",
    "index = np.argmax(prediction)\n",
    "print(f\"Prediction is {class_names[index]}\")\n",
    "\n"
   ]
  },
  {
   "cell_type": "code",
   "execution_count": 1,
   "id": "7612d0f5-58c2-4f87-8451-471f8184bc73",
   "metadata": {},
   "outputs": [
    {
     "name": "stdout",
     "output_type": "stream",
     "text": [
      "Physical GPUs:  [PhysicalDevice(name='/physical_device:GPU:0', device_type='GPU')]\n",
      "Num GPUs Available:  1\n"
     ]
    }
   ],
   "source": [
    "import tensorflow as tf\n",
    "\n",
    "# Check available devices\n",
    "physical_devices = tf.config.experimental.list_physical_devices('GPU')\n",
    "print(\"Physical GPUs: \", physical_devices)\n",
    "\n",
    "# Check if TensorFlow is using the GPU\n",
    "print(\"Num GPUs Available: \", len(physical_devices))\n"
   ]
  },
  {
   "cell_type": "code",
   "execution_count": null,
   "id": "439b43bd-085f-4b4d-822e-92d1592fc24f",
   "metadata": {},
   "outputs": [],
   "source": []
  }
 ],
 "metadata": {
  "kernelspec": {
   "display_name": "Python 3 (ipykernel)",
   "language": "python",
   "name": "python3"
  },
  "language_info": {
   "codemirror_mode": {
    "name": "ipython",
    "version": 3
   },
   "file_extension": ".py",
   "mimetype": "text/x-python",
   "name": "python",
   "nbconvert_exporter": "python",
   "pygments_lexer": "ipython3",
   "version": "3.8.20"
  }
 },
 "nbformat": 4,
 "nbformat_minor": 5
}
